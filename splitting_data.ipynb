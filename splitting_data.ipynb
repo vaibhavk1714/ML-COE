{
  "nbformat": 4,
  "nbformat_minor": 0,
  "metadata": {
    "colab": {
      "provenance": [],
      "authorship_tag": "ABX9TyO/57C86EBuWpw7XbWO6Prq",
      "include_colab_link": true
    },
    "kernelspec": {
      "name": "python3",
      "display_name": "Python 3"
    },
    "language_info": {
      "name": "python"
    },
    "accelerator": "TPU"
  },
  "cells": [
    {
      "cell_type": "markdown",
      "metadata": {
        "id": "view-in-github",
        "colab_type": "text"
      },
      "source": [
        "<a href=\"https://colab.research.google.com/github/vaibhavk1714/ML-COE/blob/main/splitting_data.ipynb\" target=\"_parent\"><img src=\"https://colab.research.google.com/assets/colab-badge.svg\" alt=\"Open In Colab\"/></a>"
      ]
    },
    {
      "cell_type": "code",
      "execution_count": null,
      "metadata": {
        "id": "BhakLifNQR-s"
      },
      "outputs": [],
      "source": [
        "import csv\n",
        "import random"
      ]
    },
    {
      "cell_type": "code",
      "source": [
        "def create_amd_store_dataset (csv_file_name, num_samples = 100):\n",
        "    header = ['ID', 'Feature1', 'Feature2', 'Label']\n",
        "    data = [[i, random.uniform(0, 10), random.uniform(0, 10), random.choice([0, 1])] for i in range(1, num_samples + 1)]\n",
        "\n",
        "    with open(csv_file_name, 'w', newline='') as csv_file:\n",
        "        csv_writer = csv.writer(csv_file)\n",
        "        csv_writer.writerow(header)\n",
        "        csv_writer.writerows(data)\n",
        "\n",
        "    print(f\"Dataset with {num_samples} samples created and stored in '{csv_file_name}'\")\n"
      ],
      "metadata": {
        "id": "1h2jZwXPfWUl"
      },
      "execution_count": null,
      "outputs": []
    },
    {
      "cell_type": "code",
      "source": [
        "def split_and_store_data(csv_file_name, train_file_name, test_file_name, test_ratio = 0.2):\n",
        "    with open(csv_file_name, 'r') as csv_file:\n",
        "        csv_reader = csv.reader(csv_file)\n",
        "        header = next(csv_reader)\n",
        "        data = list(csv_reader)\n",
        "        num_samples = len(data)\n",
        "        num_test_samples = int(num_samples * test_ratio)\n",
        "        num_train_samples = num_samples - num_test_samples\n",
        "\n",
        "    train_data = data[:num_train_samples]\n",
        "    test_data = data[num_train_samples:]\n",
        "\n",
        "    with open(train_file_name, 'w', newline='') as train_file:\n",
        "        csv_writer = csv.writer(train_file)\n",
        "        csv_writer.writerow(header)\n",
        "        csv_writer.writerows(train_data)\n",
        "\n",
        "    print(f\"Training data ({num_train_samples} samples) stored in '{train_file_name}\")\n",
        "\n",
        "    with open(test_file_name, 'w', newline='') as test_file:\n",
        "        csv_writer = csv.writer(test_file)\n",
        "        csv_writer.writerow(header)\n",
        "        csv_writer.writerows(test_data)\n",
        "\n",
        "    print(f\"Testing data ({num_test_samples} samples) stored in '{test_file_name}\")\n"
      ],
      "metadata": {
        "id": "njGyTub8wQMJ"
      },
      "execution_count": null,
      "outputs": []
    },
    {
      "cell_type": "code",
      "source": [
        "create_amd_store_dataset('1.csv')"
      ],
      "metadata": {
        "colab": {
          "base_uri": "https://localhost:8080/"
        },
        "id": "mjHKWGUPnqok",
        "outputId": "5366069a-1ddc-4e42-9f56-dd89c700b88a"
      },
      "execution_count": null,
      "outputs": [
        {
          "output_type": "stream",
          "name": "stdout",
          "text": [
            "Dataset with 100 samples created and stored in '1.csv'\n"
          ]
        }
      ]
    },
    {
      "cell_type": "code",
      "source": [
        "split_and_store_data('1.csv', 'train.csv', 'test.csv')"
      ],
      "metadata": {
        "colab": {
          "base_uri": "https://localhost:8080/"
        },
        "id": "Fk_KOVWryOm_",
        "outputId": "ad958b09-a28a-4544-bf2f-21b389a09b3f"
      },
      "execution_count": null,
      "outputs": [
        {
          "output_type": "stream",
          "name": "stdout",
          "text": [
            "Training data (80 samples) stored in 'train.csv\n",
            "Testing data (20 samples) stored in 'test.csv\n"
          ]
        }
      ]
    }
  ]
}