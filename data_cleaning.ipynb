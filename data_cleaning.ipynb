{
  "nbformat": 4,
  "nbformat_minor": 0,
  "metadata": {
    "colab": {
      "provenance": [],
      "authorship_tag": "ABX9TyNRzApZJCP439//2Xo1WRL4",
      "include_colab_link": true
    },
    "kernelspec": {
      "name": "python3",
      "display_name": "Python 3"
    },
    "language_info": {
      "name": "python"
    }
  },
  "cells": [
    {
      "cell_type": "markdown",
      "metadata": {
        "id": "view-in-github",
        "colab_type": "text"
      },
      "source": [
        "<a href=\"https://colab.research.google.com/github/vaibhavk1714/ML-COE/blob/main/data_cleaning.ipynb\" target=\"_parent\"><img src=\"https://colab.research.google.com/assets/colab-badge.svg\" alt=\"Open In Colab\"/></a>"
      ]
    },
    {
      "cell_type": "code",
      "execution_count": null,
      "metadata": {
        "id": "0pSZ4e-EVbhk"
      },
      "outputs": [],
      "source": [
        "import pandas as pd\n",
        "import numpy as np"
      ]
    },
    {
      "cell_type": "code",
      "source": [
        "data = {\n",
        "    'ID': [1, 2, 3, 4, 5],\n",
        "    'Name': ['John', 'Alex', 'Joe', 'Charlie', 'Bob'],\n",
        "    'Age': [25, 30, '35', 40, 45],\n",
        "    'Salary': [50000, 60000, 70000, 80000, 90000],\n",
        "    'Rating': [4.5, '4.7', 4.2, 3.9, np.nan]\n",
        "}"
      ],
      "metadata": {
        "id": "Z68US86OZrNQ"
      },
      "execution_count": null,
      "outputs": []
    },
    {
      "cell_type": "code",
      "source": [
        "df = pd.DataFrame(data)\n",
        "df.to_csv('sample_data.csv', index = False)"
      ],
      "metadata": {
        "id": "o_LynypfaQWq"
      },
      "execution_count": null,
      "outputs": []
    },
    {
      "cell_type": "code",
      "source": [
        "df = pd.read_csv('sample_data.csv')\n",
        "print('Original Data\\n')\n",
        "print(df)"
      ],
      "metadata": {
        "colab": {
          "base_uri": "https://localhost:8080/"
        },
        "id": "5W73_mjUagkC",
        "outputId": "98a50beb-160a-4dc6-921e-75749950e9be"
      },
      "execution_count": null,
      "outputs": [
        {
          "output_type": "stream",
          "name": "stdout",
          "text": [
            "Original Data\n",
            "\n",
            "   ID     Name  Age  Salary  Rating\n",
            "0   1     John   25   50000     4.5\n",
            "1   2     Alex   30   60000     4.7\n",
            "2   3      Joe   35   70000     4.2\n",
            "3   4  Charlie   40   80000     3.9\n",
            "4   5      Bob   45   90000     NaN\n"
          ]
        }
      ]
    },
    {
      "cell_type": "code",
      "source": [
        "df_cleaned = df.dropna()\n",
        "df_cleaned['Age'] = pd.to_numeric(df_cleaned['Age'])"
      ],
      "metadata": {
        "colab": {
          "base_uri": "https://localhost:8080/"
        },
        "id": "56JEK1AnfbFE",
        "outputId": "32c59a6a-d025-49d9-c709-61bdd3cf0e29"
      },
      "execution_count": null,
      "outputs": [
        {
          "output_type": "stream",
          "name": "stderr",
          "text": [
            "<ipython-input-21-06a2b42a5ef9>:2: SettingWithCopyWarning: \n",
            "A value is trying to be set on a copy of a slice from a DataFrame.\n",
            "Try using .loc[row_indexer,col_indexer] = value instead\n",
            "\n",
            "See the caveats in the documentation: https://pandas.pydata.org/pandas-docs/stable/user_guide/indexing.html#returning-a-view-versus-a-copy\n",
            "  df_cleaned['Age'] = pd.to_numeric(df_cleaned['Age'])\n"
          ]
        }
      ]
    },
    {
      "cell_type": "code",
      "source": [
        "salary_mean = df_cleaned['Salary'].mean()\n",
        "salary_std = df_cleaned['Salary'].std()\n",
        "df_cleaned = df_cleaned[(df_cleaned['Salary'] >= salary_mean - 2 * salary_std) & (df_cleaned['Salary'] <= salary_mean + 2 * salary_std)]"
      ],
      "metadata": {
        "id": "vm_aUPTzf-ZN"
      },
      "execution_count": null,
      "outputs": []
    },
    {
      "cell_type": "code",
      "source": [
        "print(\"\\n Cleaned Data\")\n",
        "print(df_cleaned)\n",
        "df_cleaned.to_csv('Cleaned_data.csv', index = False)"
      ],
      "metadata": {
        "colab": {
          "base_uri": "https://localhost:8080/"
        },
        "id": "8Bs4oFQPgfHj",
        "outputId": "83f54db8-dc9a-46a4-ae8b-547e92fa22ed"
      },
      "execution_count": null,
      "outputs": [
        {
          "output_type": "stream",
          "name": "stdout",
          "text": [
            "\n",
            " Cleaned Data\n",
            "   ID     Name  Age  Salary  Rating\n",
            "0   1     John   25   50000     4.5\n",
            "1   2     Alex   30   60000     4.7\n",
            "2   3      Joe   35   70000     4.2\n",
            "3   4  Charlie   40   80000     3.9\n"
          ]
        }
      ]
    }
  ]
}