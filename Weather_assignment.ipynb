{
  "nbformat": 4,
  "nbformat_minor": 0,
  "metadata": {
    "colab": {
      "provenance": [],
      "authorship_tag": "ABX9TyNd3G45kouxG9ZSKLl4DheF",
      "include_colab_link": true
    },
    "kernelspec": {
      "name": "python3",
      "display_name": "Python 3"
    },
    "language_info": {
      "name": "python"
    }
  },
  "cells": [
    {
      "cell_type": "markdown",
      "metadata": {
        "id": "view-in-github",
        "colab_type": "text"
      },
      "source": [
        "<a href=\"https://colab.research.google.com/github/vaibhavk1714/ML-COE/blob/main/Weather_assignment.ipynb\" target=\"_parent\"><img src=\"https://colab.research.google.com/assets/colab-badge.svg\" alt=\"Open In Colab\"/></a>"
      ]
    },
    {
      "cell_type": "code",
      "execution_count": null,
      "metadata": {
        "id": "S3mj3NCyhWGn"
      },
      "outputs": [],
      "source": [
        "import pandas as pd\n",
        "import numpy as np"
      ]
    },
    {
      "cell_type": "code",
      "source": [
        "df = pd.read_csv('Book1.csv')\n",
        "print(df)"
      ],
      "metadata": {
        "colab": {
          "base_uri": "https://localhost:8080/"
        },
        "id": "DrBRU1XbkERk",
        "outputId": "c27866c3-59f6-45f3-de88-1166add3625c"
      },
      "execution_count": null,
      "outputs": [
        {
          "output_type": "stream",
          "name": "stdout",
          "text": [
            "    Unnamed: 0  MaxTemp  Rainfall  Evaporation  Sunshine WindGustDir  \\\n",
            "0          8.0     24.3       0.0          3.4       6.3          NW   \n",
            "1         14.0     26.9       3.6          4.4       9.7         ENE   \n",
            "2          NaN     23.4       3.6          5.8       3.3          NW   \n",
            "3         13.3     15.5      39.8          7.2       9.1          NW   \n",
            "4          7.6      NaN       2.8          5.6      10.6         SSE   \n",
            "5          6.2     16.9       0.0          5.8       8.2          SE   \n",
            "6          6.1     18.2       0.2          4.2       8.4          SE   \n",
            "7          8.3     17.0       0.0          5.6       4.6           E   \n",
            "8          8.8     19.5       0.0          4.0       4.1           S   \n",
            "9          8.4     22.8      16.2          NaN       7.7           E   \n",
            "10         9.1     25.2       0.0          4.2      11.9           N   \n",
            "11         8.5     27.3       0.2          7.2      12.5           E   \n",
            "12        10.1     27.9       0.0          7.2      13.0         WNW   \n",
            "13        12.1     30.9       0.0          6.2      12.4          NW   \n",
            "14        10.1     31.2       0.0          8.8      13.1          NW   \n",
            "15        12.4     32.1       0.0          8.4      11.1           E   \n",
            "16        13.8     31.2       0.0          7.2       8.4         ESE   \n",
            "\n",
            "    WindGustSpeed WindDir9am WindDir3pm  WindSpeed9am  WindSpeed3pm  \\\n",
            "0            30.0         SW         NW           6.0            20   \n",
            "1            39.0          E          W           4.0            17   \n",
            "2            85.0          N        NNE           6.0             6   \n",
            "3            54.0        WNW          W          30.0            24   \n",
            "4            50.0        SSE        ESE          20.0            28   \n",
            "5            44.0         SE          E          20.0            24   \n",
            "6             NaN         SE        ESE          19.0            26   \n",
            "7            41.0         SE          E          11.0            24   \n",
            "8            48.0          E        ENE          19.0            17   \n",
            "9            31.0          S        ESE           7.0             6   \n",
            "10           30.0         SE         NW           6.0             9   \n",
            "11           41.0          E         NW           2.0            15   \n",
            "12           30.0          S         NW           6.0             7   \n",
            "13           44.0        WNW          W           7.0            20   \n",
            "14           41.0          S          W           6.0            20   \n",
            "15           46.0         SE        WSW           NaN             9   \n",
            "16           44.0        WSW          W           6.0            19   \n",
            "\n",
            "    Humidity9am  \n",
            "0          68.0  \n",
            "1          80.0  \n",
            "2          82.0  \n",
            "3          62.0  \n",
            "4           NaN  \n",
            "5          70.0  \n",
            "6          63.0  \n",
            "7          65.0  \n",
            "8          70.0  \n",
            "9          82.0  \n",
            "10         74.0  \n",
            "11         54.0  \n",
            "12         62.0  \n",
            "13         67.0  \n",
            "14         45.0  \n",
            "15         70.0  \n",
            "16         72.0  \n"
          ]
        }
      ]
    },
    {
      "cell_type": "code",
      "source": [
        "df_cleaned = df.dropna()\n",
        "MaxTemp_avg = df_cleaned['MaxTemp'].mean()\n",
        "MaxTemp_std = df_cleaned['MaxTemp'].std()\n",
        "print(MaxTemp_avg)\n",
        "print(MaxTemp_std)\n",
        "print(df_cleaned)"
      ],
      "metadata": {
        "colab": {
          "base_uri": "https://localhost:8080/"
        },
        "id": "X-KC6MUEkz5F",
        "outputId": "6a845a6a-dd07-4eea-8023-b9d7ada91f52"
      },
      "execution_count": null,
      "outputs": [
        {
          "output_type": "stream",
          "name": "stdout",
          "text": [
            "24.483333333333334\n",
            "5.849915824310222\n",
            "    Unnamed: 0  MaxTemp  Rainfall  Evaporation  Sunshine WindGustDir  \\\n",
            "0          8.0     24.3       0.0          3.4       6.3          NW   \n",
            "1         14.0     26.9       3.6          4.4       9.7         ENE   \n",
            "3         13.3     15.5      39.8          7.2       9.1          NW   \n",
            "5          6.2     16.9       0.0          5.8       8.2          SE   \n",
            "7          8.3     17.0       0.0          5.6       4.6           E   \n",
            "8          8.8     19.5       0.0          4.0       4.1           S   \n",
            "10         9.1     25.2       0.0          4.2      11.9           N   \n",
            "11         8.5     27.3       0.2          7.2      12.5           E   \n",
            "12        10.1     27.9       0.0          7.2      13.0         WNW   \n",
            "13        12.1     30.9       0.0          6.2      12.4          NW   \n",
            "14        10.1     31.2       0.0          8.8      13.1          NW   \n",
            "16        13.8     31.2       0.0          7.2       8.4         ESE   \n",
            "\n",
            "    WindGustSpeed WindDir9am WindDir3pm  WindSpeed9am  WindSpeed3pm  \\\n",
            "0            30.0         SW         NW           6.0            20   \n",
            "1            39.0          E          W           4.0            17   \n",
            "3            54.0        WNW          W          30.0            24   \n",
            "5            44.0         SE          E          20.0            24   \n",
            "7            41.0         SE          E          11.0            24   \n",
            "8            48.0          E        ENE          19.0            17   \n",
            "10           30.0         SE         NW           6.0             9   \n",
            "11           41.0          E         NW           2.0            15   \n",
            "12           30.0          S         NW           6.0             7   \n",
            "13           44.0        WNW          W           7.0            20   \n",
            "14           41.0          S          W           6.0            20   \n",
            "16           44.0        WSW          W           6.0            19   \n",
            "\n",
            "    Humidity9am  \n",
            "0          68.0  \n",
            "1          80.0  \n",
            "3          62.0  \n",
            "5          70.0  \n",
            "7          65.0  \n",
            "8          70.0  \n",
            "10         74.0  \n",
            "11         54.0  \n",
            "12         62.0  \n",
            "13         67.0  \n",
            "14         45.0  \n",
            "16         72.0  \n"
          ]
        }
      ]
    },
    {
      "cell_type": "code",
      "source": [],
      "metadata": {
        "id": "-zn2IrmGzpY5"
      },
      "execution_count": null,
      "outputs": []
    }
  ]
}