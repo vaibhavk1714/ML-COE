{
  "nbformat": 4,
  "nbformat_minor": 0,
  "metadata": {
    "colab": {
      "provenance": [],
      "authorship_tag": "ABX9TyPVe+3HKTMt8ENACEQKwpie",
      "include_colab_link": true
    },
    "kernelspec": {
      "name": "python3",
      "display_name": "Python 3"
    },
    "language_info": {
      "name": "python"
    }
  },
  "cells": [
    {
      "cell_type": "markdown",
      "metadata": {
        "id": "view-in-github",
        "colab_type": "text"
      },
      "source": [
        "<a href=\"https://colab.research.google.com/github/vaibhavk1714/ML-COE/blob/main/create_dataset.ipynb\" target=\"_parent\"><img src=\"https://colab.research.google.com/assets/colab-badge.svg\" alt=\"Open In Colab\"/></a>"
      ]
    },
    {
      "cell_type": "code",
      "execution_count": null,
      "metadata": {
        "id": "pYcxuLFt7KrD"
      },
      "outputs": [],
      "source": [
        "#Assignment 1\n",
        "import csv\n",
        "import random\n",
        "import string"
      ]
    },
    {
      "cell_type": "code",
      "source": [
        "def create_dataset(csv_file_name, num_samples = 100):\n",
        "    header = ['Sl#', 'Customer Name', 'Age', 'Phone Number', 'Total Purchase Amount']\n",
        "    data = [[i, ''.join(random.choices(string.ascii_letters, k=5)), int(random.uniform(18, 100)), ''.join(random.choices(['0', '1', '2', '3', '4', '5', '6', '7', '8', '9'], k=10)), \"{:.2f}\".format(random.uniform(1000, 10000))] for i in range(1, num_samples + 1)]\n",
        "\n",
        "    with open(csv_file_name, 'w', newline='') as csv_file:\n",
        "        csv_writer = csv.writer(csv_file)\n",
        "        csv_writer.writerow(header)\n",
        "        csv_writer.writerows(data)\n",
        "\n",
        "    print(\"Done\")"
      ],
      "metadata": {
        "id": "NEbxlJOt7TQl"
      },
      "execution_count": null,
      "outputs": []
    },
    {
      "cell_type": "code",
      "source": [
        "create_dataset('1.csv')"
      ],
      "metadata": {
        "colab": {
          "base_uri": "https://localhost:8080/"
        },
        "id": "5x5ecLer9BcT",
        "outputId": "fc3238f6-701e-4fcf-e417-1bc89eafd492"
      },
      "execution_count": null,
      "outputs": [
        {
          "output_type": "stream",
          "name": "stdout",
          "text": [
            "Done\n"
          ]
        }
      ]
    }
  ]
}